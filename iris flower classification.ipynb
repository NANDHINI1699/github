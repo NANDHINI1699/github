{
  "nbformat": 4,
  "nbformat_minor": 0,
  "metadata": {
    "colab": {
      "name": "NANDHINI_P.ipynb",
      "provenance": [],
      "collapsed_sections": []
    },
    "kernelspec": {
      "name": "python3",
      "display_name": "Python 3"
    }
  },
  "cells": [
    {
      "cell_type": "code",
      "metadata": {
        "id": "dyyAU-J6-JIl"
      },
      "source": [
        "#importing libraries\r\n",
        "import pandas as pd\r\n",
        "import numpy as np"
      ],
      "execution_count": 37,
      "outputs": []
    },
    {
      "cell_type": "code",
      "metadata": {
        "id": "ky5FGeiV-XU5"
      },
      "source": [
        "#loading the dataset from scikit learning\r\n",
        "from sklearn.datasets import load_iris\r\n",
        "iris_dataset = load_iris()"
      ],
      "execution_count": 38,
      "outputs": []
    },
    {
      "cell_type": "code",
      "metadata": {
        "colab": {
          "base_uri": "https://localhost:8080/"
        },
        "id": "_tXRq6G8k94m",
        "outputId": "67fb6117-c0ef-479c-8abf-df5ae4bb3385"
      },
      "source": [
        "#listing the keys of dataset\r\n",
        "print(\"keys of iris data set :\\n{}\".format(iris_dataset.keys()))"
      ],
      "execution_count": 39,
      "outputs": [
        {
          "output_type": "stream",
          "text": [
            "keys of iris data set :\n",
            "dict_keys(['data', 'target', 'target_names', 'DESCR', 'feature_names', 'filename'])\n"
          ],
          "name": "stdout"
        }
      ]
    },
    {
      "cell_type": "code",
      "metadata": {
        "colab": {
          "base_uri": "https://localhost:8080/"
        },
        "id": "O9GNvZvsmBjy",
        "outputId": "c537e3dd-c036-4184-e398-8e55404aea72"
      },
      "source": [
        "# to observe DESCR column \r\n",
        "print(iris_dataset[\"DESCR\"][:200]+\"\\n...\")"
      ],
      "execution_count": 41,
      "outputs": [
        {
          "output_type": "stream",
          "text": [
            ".. _iris_dataset:\n",
            "\n",
            "Iris plants dataset\n",
            "--------------------\n",
            "\n",
            "**Data Set Characteristics:**\n",
            "\n",
            "    :Number of Instances: 150 (50 in each of three classes)\n",
            "    :Number of Attributes: 4 numeric, predictive\n",
            "...\n"
          ],
          "name": "stdout"
        }
      ]
    },
    {
      "cell_type": "code",
      "metadata": {
        "colab": {
          "base_uri": "https://localhost:8080/"
        },
        "id": "NwMLe8MOnCGT",
        "outputId": "4eaee5da-fa91-4758-9728-569190ecbc44"
      },
      "source": [
        "#listing out the target names\r\n",
        "print(\"target names :{}\".format(iris_dataset[\"target_names\"]))"
      ],
      "execution_count": 42,
      "outputs": [
        {
          "output_type": "stream",
          "text": [
            "target names :['setosa' 'versicolor' 'virginica']\n"
          ],
          "name": "stdout"
        }
      ]
    },
    {
      "cell_type": "code",
      "metadata": {
        "colab": {
          "base_uri": "https://localhost:8080/"
        },
        "id": "mRGqzviIn-2I",
        "outputId": "f4e5d8da-81e9-4666-fee4-6c6a3c73197d"
      },
      "source": [
        "#to observe the feature names\r\n",
        "print(\"feature names :\\n{}\".format(iris_dataset.feature_names))"
      ],
      "execution_count": 43,
      "outputs": [
        {
          "output_type": "stream",
          "text": [
            "feature names :\n",
            "['sepal length (cm)', 'sepal width (cm)', 'petal length (cm)', 'petal width (cm)']\n"
          ],
          "name": "stdout"
        }
      ]
    },
    {
      "cell_type": "code",
      "metadata": {
        "colab": {
          "base_uri": "https://localhost:8080/"
        },
        "id": "iBpXlePNoa88",
        "outputId": "c2ebadaa-b08a-4e2e-9fdf-96989d0afafb"
      },
      "source": [
        "#to find the type of data\r\n",
        "print(\"type of data :\\n{}\".format(type(iris_dataset[\"data\"])))"
      ],
      "execution_count": 44,
      "outputs": [
        {
          "output_type": "stream",
          "text": [
            "type of data :\n",
            "<class 'numpy.ndarray'>\n"
          ],
          "name": "stdout"
        }
      ]
    },
    {
      "cell_type": "code",
      "metadata": {
        "colab": {
          "base_uri": "https://localhost:8080/"
        },
        "id": "ohh1--oeo1dF",
        "outputId": "ca156ae1-9457-4f87-a899-d089e94130a2"
      },
      "source": [
        "#to find the shape of data\r\n",
        "print(\"shape of data : {}\".format(iris_dataset[\"data\"].shape))"
      ],
      "execution_count": 45,
      "outputs": [
        {
          "output_type": "stream",
          "text": [
            "shape of data : (150, 4)\n"
          ],
          "name": "stdout"
        }
      ]
    },
    {
      "cell_type": "code",
      "metadata": {
        "colab": {
          "base_uri": "https://localhost:8080/"
        },
        "id": "nORzOQszpQSo",
        "outputId": "9dd5ed12-f506-4dce-b701-86d77ef65802"
      },
      "source": [
        "#observing first 5 coulmns of data\r\n",
        "print(\"'first five columns of data :\\n{}\".format(iris_dataset[\"data\"][:5]))"
      ],
      "execution_count": 46,
      "outputs": [
        {
          "output_type": "stream",
          "text": [
            "'first five columns of data :\n",
            "[[5.1 3.5 1.4 0.2]\n",
            " [4.9 3.  1.4 0.2]\n",
            " [4.7 3.2 1.3 0.2]\n",
            " [4.6 3.1 1.5 0.2]\n",
            " [5.  3.6 1.4 0.2]]\n"
          ],
          "name": "stdout"
        }
      ]
    },
    {
      "cell_type": "code",
      "metadata": {
        "colab": {
          "base_uri": "https://localhost:8080/"
        },
        "id": "jt00tiXAvUxe",
        "outputId": "ca6d0097-10a0-49d7-b0d5-600ae063cc08"
      },
      "source": [
        "#to find the type of target\r\n",
        "print(\"type of target :{}\".format(type(iris_dataset[\"target\"])))"
      ],
      "execution_count": 47,
      "outputs": [
        {
          "output_type": "stream",
          "text": [
            "type of target :<class 'numpy.ndarray'>\n"
          ],
          "name": "stdout"
        }
      ]
    },
    {
      "cell_type": "code",
      "metadata": {
        "colab": {
          "base_uri": "https://localhost:8080/"
        },
        "id": "WRsSubiAxEC4",
        "outputId": "39d58c6b-0172-4a5c-bfe1-9789fe9a0a69"
      },
      "source": [
        "#to find the shape of target\r\n",
        "print(\"shape of target:{}\".format(iris_dataset[\"target\"].shape))"
      ],
      "execution_count": 48,
      "outputs": [
        {
          "output_type": "stream",
          "text": [
            "shape of target:(150,)\n"
          ],
          "name": "stdout"
        }
      ]
    },
    {
      "cell_type": "code",
      "metadata": {
        "colab": {
          "base_uri": "https://localhost:8080/"
        },
        "id": "3LdS0BRDxbGG",
        "outputId": "d584b8d7-7f21-411e-b1e5-a30aa2dacd96"
      },
      "source": [
        "#observing the target column of data set\r\n",
        "print(\"target:\\n{}\".format(iris_dataset[\"target\"]))"
      ],
      "execution_count": 49,
      "outputs": [
        {
          "output_type": "stream",
          "text": [
            "target:\n",
            "[0 0 0 0 0 0 0 0 0 0 0 0 0 0 0 0 0 0 0 0 0 0 0 0 0 0 0 0 0 0 0 0 0 0 0 0 0\n",
            " 0 0 0 0 0 0 0 0 0 0 0 0 0 1 1 1 1 1 1 1 1 1 1 1 1 1 1 1 1 1 1 1 1 1 1 1 1\n",
            " 1 1 1 1 1 1 1 1 1 1 1 1 1 1 1 1 1 1 1 1 1 1 1 1 1 1 2 2 2 2 2 2 2 2 2 2 2\n",
            " 2 2 2 2 2 2 2 2 2 2 2 2 2 2 2 2 2 2 2 2 2 2 2 2 2 2 2 2 2 2 2 2 2 2 2 2 2\n",
            " 2 2]\n"
          ],
          "name": "stdout"
        }
      ]
    },
    {
      "cell_type": "code",
      "metadata": {
        "id": "LElnsf-HBH2Q"
      },
      "source": [
        "#setting up training data and test data\r\n",
        "import sklearn\r\n",
        "from sklearn.model_selection import train_test_split\r\n",
        "X_train, X_test, y_train, y_test = train_test_split(iris_dataset[\"data\"],\r\n",
        "                                iris_dataset[\"target\"],random_state = 0) "
      ],
      "execution_count": 50,
      "outputs": []
    },
    {
      "cell_type": "code",
      "metadata": {
        "colab": {
          "base_uri": "https://localhost:8080/"
        },
        "id": "QegCtUU4Hnp_",
        "outputId": "6397c42b-83ff-469c-f142-32557a60b116"
      },
      "source": [
        "#observing the shape of training & test data\r\n",
        "print(\"X_train shape : {}\".format(X_train.shape))\r\n",
        "print(\"X_test shape : {}\".format(X_test.shape))\r\n",
        "print(\"y_train shape : {}\".format(y_train.shape))\r\n",
        "print(\"y_test shape : {}\".format(y_test.shape))"
      ],
      "execution_count": 51,
      "outputs": [
        {
          "output_type": "stream",
          "text": [
            "X_train shape : (112, 4)\n",
            "X_test shape : (38, 4)\n",
            "y_train shape : (112,)\n",
            "y_test shape : (38,)\n"
          ],
          "name": "stdout"
        }
      ]
    },
    {
      "cell_type": "code",
      "metadata": {
        "id": "XxweqBnqITJ2"
      },
      "source": [
        "#this is the KNN machine model\r\n",
        "from sklearn.neighbors import KNeighborsClassifier\r\n",
        "knn = KNeighborsClassifier(n_neighbors=1)"
      ],
      "execution_count": 53,
      "outputs": []
    },
    {
      "cell_type": "code",
      "metadata": {
        "colab": {
          "base_uri": "https://localhost:8080/"
        },
        "id": "LkPXrahHOzaf",
        "outputId": "a55ec3d2-b226-46fc-ea94-d6ddca0f0475"
      },
      "source": [
        "#fitting KNN classifier to training data values\r\n",
        "knn.fit(X_train, y_train)"
      ],
      "execution_count": 55,
      "outputs": [
        {
          "output_type": "execute_result",
          "data": {
            "text/plain": [
              "KNeighborsClassifier(algorithm='auto', leaf_size=30, metric='minkowski',\n",
              "                     metric_params=None, n_jobs=None, n_neighbors=1, p=2,\n",
              "                     weights='uniform')"
            ]
          },
          "metadata": {
            "tags": []
          },
          "execution_count": 55
        }
      ]
    },
    {
      "cell_type": "code",
      "metadata": {
        "colab": {
          "base_uri": "https://localhost:8080/"
        },
        "id": "8HAVPE68SIqp",
        "outputId": "554b3d81-c801-43f0-b203-0ab8af5c9710"
      },
      "source": [
        "# making prediction for new data\r\n",
        "X_new = np.array([[5, 2.9, 1 ,0.2]])\r\n",
        "print(\"X_new.shape:{}\".format(X_new.shape))"
      ],
      "execution_count": 56,
      "outputs": [
        {
          "output_type": "stream",
          "text": [
            "X_new.shape:(1, 4)\n"
          ],
          "name": "stdout"
        }
      ]
    },
    {
      "cell_type": "code",
      "metadata": {
        "colab": {
          "base_uri": "https://localhost:8080/"
        },
        "id": "QZudS_5sTSQj",
        "outputId": "c0c44feb-032a-4824-f516-84a85ac13912"
      },
      "source": [
        "#calling predict method of Knn object to make prediction \r\n",
        "prediction = knn.predict(X_new)\r\n",
        "print(\"Prediction: {}\".format(prediction))\r\n",
        "print(\"Predicted target name : {}\".format(\r\n",
        "    iris_dataset[\"target_names\"][prediction]))"
      ],
      "execution_count": 57,
      "outputs": [
        {
          "output_type": "stream",
          "text": [
            "Prediction: [0]\n",
            "Predicted target name : ['setosa']\n"
          ],
          "name": "stdout"
        }
      ]
    },
    {
      "cell_type": "code",
      "metadata": {
        "id": "KPsqpUbKU_UU"
      },
      "source": [
        "#evaluating the model"
      ],
      "execution_count": 58,
      "outputs": []
    },
    {
      "cell_type": "code",
      "metadata": {
        "colab": {
          "base_uri": "https://localhost:8080/"
        },
        "id": "IxahtCABUpSp",
        "outputId": "04261be5-cda5-4043-ae4b-b9ad30265a0a"
      },
      "source": [
        "y_pred = knn.predict(X_test)\r\n",
        "print(\"Test set predictions:\\n {}\".format(y_pred))\r\n"
      ],
      "execution_count": 59,
      "outputs": [
        {
          "output_type": "stream",
          "text": [
            "Test set predictions:\n",
            " [2 1 0 2 0 2 0 1 1 1 2 1 1 1 1 0 1 1 0 0 2 1 0 0 2 0 0 1 1 0 2 1 0 2 2 1 0\n",
            " 2]\n"
          ],
          "name": "stdout"
        }
      ]
    },
    {
      "cell_type": "code",
      "metadata": {
        "colab": {
          "base_uri": "https://localhost:8080/"
        },
        "id": "i6sTeVraVEyM",
        "outputId": "5a8c30fc-46b3-4d2b-dc3d-06e738e8bede"
      },
      "source": [
        "print(\"Test set score : {}\".format(np.mean(y_pred == y_test)))"
      ],
      "execution_count": 60,
      "outputs": [
        {
          "output_type": "stream",
          "text": [
            "Test set score : 0.9736842105263158\n"
          ],
          "name": "stdout"
        }
      ]
    },
    {
      "cell_type": "code",
      "metadata": {
        "id": "ALN7sJRkVcqb"
      },
      "source": [
        ""
      ],
      "execution_count": null,
      "outputs": []
    }
  ]
}